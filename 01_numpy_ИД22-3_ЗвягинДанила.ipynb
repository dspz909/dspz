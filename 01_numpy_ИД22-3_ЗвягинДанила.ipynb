{
 "cells": [
  {
   "cell_type": "markdown",
   "metadata": {},
   "source": [
    "# Numpy"
   ]
  },
  {
   "cell_type": "markdown",
   "metadata": {},
   "source": [
    "Материалы:\n",
    "* Макрушин С.В. \"Лекция 1: Библиотека Numpy\"\n",
    "* https://numpy.org/doc/stable/user/index.html\n",
    "* https://numpy.org/doc/stable/reference/index.html"
   ]
  },
  {
   "cell_type": "markdown",
   "metadata": {},
   "source": [
    "## Задачи для совместного разбора"
   ]
  },
  {
   "cell_type": "markdown",
   "metadata": {},
   "source": [
    "1. Сгенерировать двухмерный массив `arr` размерности (4, 7), состоящий из случайных действительных чисел, равномерно распределенных в диапазоне от 0 до 20. Нормализовать значения массива с помощью преобразования вида  $𝑎𝑥+𝑏$  так, что после нормализации максимальный элемент масcива будет равен 1.0, минимальный 0.0"
   ]
  },
  {
   "cell_type": "code",
   "execution_count": 97,
   "metadata": {},
   "outputs": [],
   "source": [
    "import numpy as np\n",
    "import random"
   ]
  },
  {
   "cell_type": "code",
   "execution_count": 121,
   "metadata": {},
   "outputs": [
    {
     "name": "stdout",
     "output_type": "stream",
     "text": [
      "[[ 4.92419621  3.56889831  9.69411156  8.25018689  8.29277239 18.97362329\n",
      "   2.03043013]\n",
      " [18.14784576 18.12020846  8.5884188  11.08916343  8.92923182  1.05607901\n",
      "   5.70601871]\n",
      " [ 2.92389236 14.89490318 12.52262504  6.48038002 15.4580921   8.24382821\n",
      "   7.03843119]\n",
      " [ 9.85541635  4.88764152  3.6081929  17.71939483 13.67900731  0.27002296\n",
      "  14.60780937]]\n",
      "\n",
      "\n",
      "[[0.19588684 0.14197245 0.38563631 0.32819631 0.32989038 0.75477964\n",
      "  0.08077146]\n",
      " [0.58334753 0.58245915 0.27606764 0.35645201 0.28702279 0.03394679\n",
      "  0.18341526]\n",
      " [0.10431358 0.53139463 0.44676059 0.23119581 0.55148711 0.29410907\n",
      "  0.25110499]\n",
      " [0.33831861 0.16778389 0.12386273 0.60827476 0.46957557 0.0092694\n",
      "  0.50145966]]\n"
     ]
    }
   ],
   "source": [
    "from sklearn import preprocessing as p\n",
    "data = np.random.rand(4,7) * 20\n",
    "normalized_data = p.normalize(data)\n",
    "print(data)\n",
    "print('\\n')\n",
    "print(normalized_data)"
   ]
  },
  {
   "cell_type": "markdown",
   "metadata": {},
   "source": [
    "2. Создать матрицу 8 на 10 из случайных целых (используя модуль `numpy.random`) чисел из диапозона от 0 до 10 и найти в ней строку (ее индекс и вывести саму строку), в которой сумма значений минимальна."
   ]
  },
  {
   "cell_type": "code",
   "execution_count": 143,
   "metadata": {},
   "outputs": [
    {
     "name": "stdout",
     "output_type": "stream",
     "text": [
      "[[1 3 8 7 2 5 1 9 9 5]\n",
      " [2 3 8 9 5 4 9 8 8 9]\n",
      " [2 3 5 5 3 7 6 0 1 4]\n",
      " [1 2 6 2 1 9 8 8 5 0]\n",
      " [4 1 0 1 1 3 6 7 5 6]\n",
      " [0 2 5 9 7 7 6 2 6 7]\n",
      " [7 0 8 3 4 8 5 8 3 3]\n",
      " [5 2 5 3 1 9 6 7 9 5]] \n",
      "\n"
     ]
    },
    {
     "data": {
      "text/plain": [
       "array([4, 1, 0, 1, 1, 3, 6, 7, 5, 6])"
      ]
     },
     "execution_count": 143,
     "metadata": {},
     "output_type": "execute_result"
    }
   ],
   "source": [
    "data = np.random.randint(10, size = (8,10))\n",
    "print(data, '\\n')\n",
    "data[np.argmin(np.sum(data, axis=1))]"
   ]
  },
  {
   "cell_type": "code",
   "execution_count": 145,
   "metadata": {},
   "outputs": [
    {
     "name": "stdout",
     "output_type": "stream",
     "text": [
      "[[1 9 8]\n",
      " [6 2 5]\n",
      " [5 5 6]] \n",
      "\n"
     ]
    },
    {
     "data": {
      "text/plain": [
       "array([6, 2, 5])"
      ]
     },
     "execution_count": 145,
     "metadata": {},
     "output_type": "execute_result"
    }
   ],
   "source": [
    "'''data = np.random.randint(10, size = (3,3))\n",
    "print(data, '\\n')\n",
    "data[np.argmin(np.sum(data, axis=1))] ''' #проверка на маленькой матрице"
   ]
  },
  {
   "cell_type": "markdown",
   "metadata": {},
   "source": [
    "3. Найти евклидово расстояние между двумя одномерными векторами одинаковой размерности."
   ]
  },
  {
   "cell_type": "code",
   "execution_count": 163,
   "metadata": {},
   "outputs": [
    {
     "data": {
      "text/plain": [
       "93.28451104015072"
      ]
     },
     "execution_count": 163,
     "metadata": {},
     "output_type": "execute_result"
    }
   ],
   "source": [
    "a = np.array([1,2,3,4])\n",
    "b = np.array([33, 55, 66, 34])\n",
    "\n",
    "np.linalg.norm(a - b)"
   ]
  },
  {
   "cell_type": "markdown",
   "metadata": {},
   "source": [
    "4. Решить матричное уравнение `A*X*B=-C` - найти матрицу `X`. Где `A = [[-1, 2, 4], [-3, 1, 2], [-3, 0, 1]]`, `B=[[3, -1], [2, 1]]`, `C=[[7, 21], [11, 8], [8, 4]]`."
   ]
  },
  {
   "cell_type": "markdown",
   "metadata": {},
   "source": [
    "## Лабораторная работа №1"
   ]
  },
  {
   "cell_type": "markdown",
   "metadata": {},
   "source": [
    "Замечание: при решении данных задач не подразумевается использования циклов или генераторов Python, если в задании не сказано обратного. Решение должно опираться на использования функционала библиотеки `numpy`."
   ]
  },
  {
   "cell_type": "markdown",
   "metadata": {},
   "source": [
    "1. Файл `minutes_n_ingredients.csv` содержит информацию об идентификаторе рецепта, времени его выполнения в минутах и количестве необходимых ингредиентов. Считайте данные из этого файла в виде массива `numpy` типа `int32`, используя `np.loadtxt`. Выведите на экран первые 5 строк массива."
   ]
  },
  {
   "cell_type": "code",
   "execution_count": 1,
   "metadata": {},
   "outputs": [],
   "source": [
    "import numpy as np\n"
   ]
  },
  {
   "cell_type": "code",
   "execution_count": 2,
   "metadata": {},
   "outputs": [
    {
     "data": {
      "text/plain": [
       "array([[127244,     60,     16],\n",
       "       [ 23891,     25,      7],\n",
       "       [ 94746,     10,      6],\n",
       "       [ 67660,      5,      6],\n",
       "       [157911,     60,     14]])"
      ]
     },
     "execution_count": 2,
     "metadata": {},
     "output_type": "execute_result"
    }
   ],
   "source": [
    "dfile = np.loadtxt('minutes_n_ingredients.csv', delimiter = ',', dtype = 'int32', skiprows = 1)\n",
    "dfile[:5]"
   ]
  },
  {
   "cell_type": "markdown",
   "metadata": {},
   "source": [
    "2. Вычислите среднее значение, минимум, максимум и медиану по каждому из столбцов, кроме первого."
   ]
  },
  {
   "cell_type": "code",
   "execution_count": 3,
   "metadata": {},
   "outputs": [
    {
     "name": "stdout",
     "output_type": "stream",
     "text": [
      "среднее значение по столбцам: [2.16010017e+04 9.05528000e+00]\n",
      "максимальное значение по столбцам: [2147483647         39]\n",
      "минимальное значение по столбцам: [0 1]\n",
      "медиана по столбцам: [40.  9.]\n"
     ]
    }
   ],
   "source": [
    "dfile1 = dfile[:, 1:] #массив без 1го столбца\n",
    "srednelement = np.average(dfile1, 0)\n",
    "print('среднее значение по столбцам:', srednelement)\n",
    "maxelement = np.max(dfile1, 0)\n",
    "print('максимальное значение по столбцам:', maxelement)\n",
    "minelement = np.min(dfile1, 0)\n",
    "print('минимальное значение по столбцам:', minelement)\n",
    "medianelement = np.median(dfile1, 0)\n",
    "print('медиана по столбцам:', medianelement)\n"
   ]
  },
  {
   "cell_type": "markdown",
   "metadata": {},
   "source": [
    "3. Ограничьте сверху значения продолжительности выполнения рецепта значением квантиля $q_{0.75}$. "
   ]
  },
  {
   "cell_type": "code",
   "execution_count": 4,
   "metadata": {},
   "outputs": [
    {
     "name": "stdout",
     "output_type": "stream",
     "text": [
      "Количество строчек в новом массиве: 75461\n",
      "Ограниченный значением квантиля массив: \n",
      " [[127244     60     16]\n",
      " [ 23891     25      7]\n",
      " [ 94746     10      6]\n",
      " ...\n",
      " [ 43407     35      7]\n",
      " [498432     65     15]\n",
      " [370915      5      4]]\n"
     ]
    }
   ],
   "source": [
    "q = np.quantile(dfile[:,1], 0.75, axis = 0) #вычисленный квантиль\n",
    "dfile3 = dfile[dfile[:, 1] <= q]\n",
    "print('Количество строчек в новом массиве:',dfile3.shape[0])\n",
    "print('Ограниченный значением квантиля массив:','\\n',dfile3)\n"
   ]
  },
  {
   "cell_type": "markdown",
   "metadata": {},
   "source": [
    "4. Посчитайте, для скольких рецептов указана продолжительность, равная нулю. Замените для таких строк значение в данном столбце на 1."
   ]
  },
  {
   "cell_type": "code",
   "execution_count": 5,
   "metadata": {},
   "outputs": [
    {
     "name": "stdout",
     "output_type": "stream",
     "text": [
      "479\n"
     ]
    },
    {
     "data": {
      "text/plain": [
       "(array([[ 18800,    270,     17],\n",
       "        [  9325,      0,     10],\n",
       "        [422167,     45,      8]]),\n",
       " array([[ 18800,    270,     17],\n",
       "        [  9325,      1,     10],\n",
       "        [422167,     45,      8]]))"
      ]
     },
     "execution_count": 5,
     "metadata": {},
     "output_type": "execute_result"
    }
   ],
   "source": [
    "dfile4 = dfile[dfile[:, 1] == 0]\n",
    "print(dfile4.shape[0]) #количество рецептов, у которых указана продолжительность 0\n",
    "dfile44 = np.copy(dfile) #копирование изначального массива\n",
    "np.place(dfile44[:, 1], dfile44[:, 1] == 0, 1) #замена продолжительности со значением 0 на значение 1\n",
    "dfile[410:413], dfile44[410:413] #мы видим изначальный массив со значением 0 и измененный массив уже со значением 1 "
   ]
  },
  {
   "cell_type": "markdown",
   "metadata": {},
   "source": [
    "5. Посчитайте, сколько уникальных рецептов находится в датасете."
   ]
  },
  {
   "cell_type": "code",
   "execution_count": 6,
   "metadata": {},
   "outputs": [
    {
     "data": {
      "text/plain": [
       "100000"
      ]
     },
     "execution_count": 6,
     "metadata": {},
     "output_type": "execute_result"
    }
   ],
   "source": [
    "len(np.unique(dfile[:,0]))\n"
   ]
  },
  {
   "cell_type": "markdown",
   "metadata": {},
   "source": [
    "6. Сколько и каких различных значений кол-ва ингредиентов присутвует в рецептах из датасета?"
   ]
  },
  {
   "cell_type": "code",
   "execution_count": 7,
   "metadata": {},
   "outputs": [
    {
     "name": "stdout",
     "output_type": "stream",
     "text": [
      "Различные значения кол-ва ингредиентов: \n",
      " [ 1  2  3  4  5  6  7  8  9 10 11 12 13 14 15 16 17 18 19 20 21 22 23 24\n",
      " 25 26 27 28 29 30 31 32 33 34 35 37 39]\n",
      "Сколько различных значений присутсвует в рецептах: 37\n"
     ]
    }
   ],
   "source": [
    "print('Различные значения кол-ва ингредиентов:', '\\n', np.unique(dfile[:,2]))\n",
    "print('Сколько различных значений присутсвует в рецептах:', len(np.unique(dfile[:,2])))"
   ]
  },
  {
   "cell_type": "markdown",
   "metadata": {},
   "source": [
    "7. Создайте версию массива, содержащую информацию только о рецептах, состоящих не более чем из 5 ингредиентов."
   ]
  },
  {
   "cell_type": "code",
   "execution_count": 8,
   "metadata": {},
   "outputs": [
    {
     "name": "stdout",
     "output_type": "stream",
     "text": [
      "[[446597     15      5]\n",
      " [204134      5      3]\n",
      " [ 25623      6      4]\n",
      " ...\n",
      " [ 52088     60      5]\n",
      " [128811     15      4]\n",
      " [370915      5      4]] \n",
      "\n",
      " количество рецептов, состоящих не более чем из 5 ингридиентов 17262\n"
     ]
    }
   ],
   "source": [
    "dfile7 = dfile[dfile[:, 2] <= 5]\n",
    "print(dfile7, '\\n\\n', 'количество рецептов, состоящих не более чем из 5 ингридиентов', dfile7.shape[0])\n"
   ]
  },
  {
   "cell_type": "markdown",
   "metadata": {},
   "source": [
    "8. Для каждого рецепта посчитайте, сколько в среднем ингредиентов приходится на одну минуту рецепта. Найдите максимальное значение этой величины для всего датасета"
   ]
  },
  {
   "cell_type": "code",
   "execution_count": 9,
   "metadata": {},
   "outputs": [
    {
     "name": "stdout",
     "output_type": "stream",
     "text": [
      "[[0.26666667]\n",
      " [0.28      ]\n",
      " [0.6       ]\n",
      " ...\n",
      " [0.23076923]\n",
      " [0.8       ]\n",
      " [0.1       ]]\n",
      "Максимальное количество ингридиентов на одну минуту рецепта: 24.0\n"
     ]
    }
   ],
   "source": [
    "dfile8 = dfile[:, 2] / dfile44[:, 1] #используется dfile44 из 4 заданаия, т.к там продолжительность равная 0 заменена на 1\n",
    "print(dfile8[:,np.newaxis]) #массив из того, сколько в среднем ингридиентов приходится на одну минуту рецепта\n",
    "print('Максимальное количество ингридиентов на одну минуту рецепта:',np.max(dfile8))\n"
   ]
  },
  {
   "cell_type": "markdown",
   "metadata": {},
   "source": [
    "9. Вычислите среднее количество ингредиентов для топ-100 рецептов с наибольшей продолжительностью"
   ]
  },
  {
   "cell_type": "code",
   "execution_count": 10,
   "metadata": {},
   "outputs": [
    {
     "name": "stdout",
     "output_type": "stream",
     "text": [
      "Среднее количество ингредиентов для топ-100 рецептов с наибольшей продолжительностью: 28.22\n"
     ]
    }
   ],
   "source": [
    "dfile9 = np.copy(dfile)\n",
    "dfile9 = np.sort(dfile9, axis = 0)[::-1][:100]\n",
    "sredn_colvo = np.average(dfile9[:,2])\n",
    "print('Среднее количество ингредиентов для топ-100 рецептов с наибольшей продолжительностью:',sredn_colvo)"
   ]
  },
  {
   "cell_type": "markdown",
   "metadata": {},
   "source": [
    "10. Выберите случайным образом и выведите информацию о 10 различных рецептах"
   ]
  },
  {
   "cell_type": "code",
   "execution_count": 11,
   "metadata": {},
   "outputs": [
    {
     "data": {
      "text/plain": [
       "array([[291623,     40,     10],\n",
       "       [366704,     47,     12],\n",
       "       [217025,      6,      4],\n",
       "       [445489,      5,      7],\n",
       "       [ 30580,     60,      6],\n",
       "       [430058,     15,     11],\n",
       "       [ 36360,     34,      9],\n",
       "       [418546,      5,      8],\n",
       "       [ 33385,     20,      8],\n",
       "       [445181,     80,      4]])"
      ]
     },
     "execution_count": 11,
     "metadata": {},
     "output_type": "execute_result"
    }
   ],
   "source": [
    "import random\n",
    "\n",
    "dfile[np.random.choice(len(dfile), size = 10, replace = False)] \n"
   ]
  },
  {
   "cell_type": "markdown",
   "metadata": {},
   "source": [
    "11. Выведите процент рецептов, кол-во ингредиентов в которых меньше среднего."
   ]
  },
  {
   "cell_type": "code",
   "execution_count": 12,
   "metadata": {},
   "outputs": [
    {
     "name": "stdout",
     "output_type": "stream",
     "text": [
      "Процент рецептов, кол-во ингредиентов в которых меньше среднего: ,58.802%\n"
     ]
    }
   ],
   "source": [
    "sredn_ingr = np.average(dfile[:,2]) #среднее количество ингридиентов в рецептах\n",
    "vsego_recept = dfile.shape[0] #сколько всего рецептов\n",
    "men_sredn = dfile[dfile[:, 2] < sredn_ingr].shape[0] # количство рецептов, в которых кол-во ингредиентов меньше среднего\n",
    "print(f'Процент рецептов, кол-во ингредиентов в которых меньше среднего: ,{men_sredn/vsego_recept*100}%')\n"
   ]
  },
  {
   "cell_type": "markdown",
   "metadata": {},
   "source": [
    "12. Назовем \"простым\" такой рецепт, длительность выполнения которого не больше 20 минут и кол-во ингредиентов в котором не больше 5. Создайте версию датасета с дополнительным столбцом, значениями которого являются 1, если рецепт простой, и 0 в противном случае."
   ]
  },
  {
   "cell_type": "code",
   "execution_count": 13,
   "metadata": {},
   "outputs": [
    {
     "name": "stdout",
     "output_type": "stream",
     "text": [
      "[[127244     60     16      0]\n",
      " [ 23891     25      7      0]\n",
      " [ 94746     10      6      0]\n",
      " ...\n",
      " [498432     65     15      0]\n",
      " [370915      5      4      1]\n",
      " [ 81993    140     14      0]]\n",
      "Количество простых рецептов: 9552\n"
     ]
    }
   ],
   "source": [
    "s1 = (dfile[:,2] <= 5)[:,np.newaxis] \n",
    "s2 = (dfile[:,1] <= 20)[:,np.newaxis]\n",
    "s4 = np.concatenate((s1, s2), axis=1)\n",
    "s5 = np.sum(s4, axis = 1)[:,np.newaxis]\n",
    "np.place(s5, s5[:, 0] == 1, 0)\n",
    "np.place(s5, s5[:, 0] == 2, 1)\n",
    "final_ar = np.concatenate((dfile, s5), axis=1)\n",
    "print(final_ar)\n",
    "print('Количество простых рецептов:', np.sum(final_ar[:,3]))"
   ]
  },
  {
   "cell_type": "markdown",
   "metadata": {},
   "source": [
    "13. Выведите процент \"простых\" рецептов в датасете"
   ]
  },
  {
   "cell_type": "code",
   "execution_count": 14,
   "metadata": {},
   "outputs": [
    {
     "name": "stdout",
     "output_type": "stream",
     "text": [
      "Процент \"простых\" рецептов в датасете:, 9.552%\n"
     ]
    }
   ],
   "source": [
    "prost_recipe = np.sum(final_ar[:,3])\n",
    "all_recipe = dfile.shape[0]\n",
    "procent_recipe = prost_recipe / all_recipe * 100\n",
    "print(f'Процент \"простых\" рецептов в датасете:, {procent_recipe}%')"
   ]
  },
  {
   "cell_type": "markdown",
   "metadata": {},
   "source": [
    "14. Разделим рецепты на группы по следующему правилу. Назовем рецепты короткими, если их продолжительность составляет менее 10 минут; стандартными, если их продолжительность составляет более 10, но менее 20 минут; и длинными, если их продолжительность составляет не менее 20 минут. Создайте трехмерный массив, где нулевая ось отвечает за номер группы (короткий, стандартный или длинный рецепт), первая ось - за сам рецепт и вторая ось - за характеристики рецепта. Выберите максимальное количество рецептов из каждой группы таким образом, чтобы было возможно сформировать трехмерный массив. Выведите форму полученного массива."
   ]
  },
  {
   "cell_type": "code",
   "execution_count": 15,
   "metadata": {},
   "outputs": [
    {
     "name": "stdout",
     "output_type": "stream",
     "text": [
      "7588\n"
     ]
    },
    {
     "data": {
      "text/plain": [
       "array([[[ 67660,      5,      6],\n",
       "        [366174,      7,      9],\n",
       "        [204134,      5,      3],\n",
       "        ...,\n",
       "        [420725,      5,      3],\n",
       "        [  4747,      0,      9],\n",
       "        [370915,      5,      4]],\n",
       "\n",
       "       [[ 94746,     10,      6],\n",
       "        [ 33941,     18,      9],\n",
       "        [446597,     15,      5],\n",
       "        ...,\n",
       "        [  9831,     15,      7],\n",
       "        [335859,     12,     14],\n",
       "        [256812,     10,      3]],\n",
       "\n",
       "       [[127244,     60,     16],\n",
       "        [ 23891,     25,      7],\n",
       "        [157911,     60,     14],\n",
       "        ...,\n",
       "        [168901,     25,      7],\n",
       "        [392339,     35,     13],\n",
       "        [206732,     45,     10]]])"
      ]
     },
     "execution_count": 15,
     "metadata": {},
     "output_type": "execute_result"
    }
   ],
   "source": [
    "dfile14 = np.copy(dfile)\n",
    "short_recipe = dfile14[dfile[:,1] < 10]\n",
    "midle_recipe = dfile14[(10 <= dfile[:,1]) & (dfile[:,1] < 20)]\n",
    "long_recipe = dfile14[dfile[:, 1] >= 20]\n",
    "min_recipe = min(len(short_recipe), len(midle_recipe), len(long_recipe))\n",
    "print(min_recipe)\n",
    "itog_recipes = np.array([short_recipe[:min_recipe], midle_recipe[:min_recipe], long_recipe[:min_recipe]])\n",
    "itog_recipes\n"
   ]
  }
 ],
 "metadata": {
  "kernelspec": {
   "display_name": "Python 3 (ipykernel)",
   "language": "python",
   "name": "python3"
  },
  "language_info": {
   "codemirror_mode": {
    "name": "ipython",
    "version": 3
   },
   "file_extension": ".py",
   "mimetype": "text/x-python",
   "name": "python",
   "nbconvert_exporter": "python",
   "pygments_lexer": "ipython3",
   "version": "3.9.7"
  }
 },
 "nbformat": 4,
 "nbformat_minor": 4
}
