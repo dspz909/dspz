{
 "cells": [
  {
   "cell_type": "markdown",
   "metadata": {},
   "source": [
    "# Numpy"
   ]
  },
  {
   "cell_type": "markdown",
   "metadata": {},
   "source": [
    "Материалы:\n",
    "* Макрушин С.В. \"Лекция 1: Библиотека Numpy\"\n",
    "* https://numpy.org/doc/stable/user/index.html\n",
    "* https://numpy.org/doc/stable/reference/index.html"
   ]
  },
  {
   "cell_type": "code",
   "execution_count": 2,
   "metadata": {},
   "outputs": [],
   "source": [
    "import numpy as np"
   ]
  },
  {
   "cell_type": "markdown",
   "metadata": {},
   "source": [
    "## Задачи для совместного разбора"
   ]
  },
  {
   "cell_type": "markdown",
   "metadata": {},
   "source": [
    "1. Сгенерировать двухмерный массив `arr` размерности (4, 7), состоящий из случайных действительных чисел, равномерно распределенных в диапазоне от 0 до 20. Нормализовать значения массива с помощью преобразования вида  $𝑎𝑥+𝑏$  так, что после нормализации максимальный элемент масcива будет равен 1.0, минимальный 0.0"
   ]
  },
  {
   "cell_type": "code",
   "execution_count": 3,
   "metadata": {},
   "outputs": [
    {
     "data": {
      "text/plain": [
       "array([[0.23418192, 0.82415381, 0.30242984, 0.        , 0.78716716,\n",
       "        0.80776246, 0.07895886],\n",
       "       [0.11954698, 0.75874036, 0.56546342, 0.00943169, 0.78715627,\n",
       "        0.09115695, 0.48474024],\n",
       "       [1.        , 0.06440745, 0.5098276 , 0.09839312, 0.83603262,\n",
       "        0.71753562, 0.53361959],\n",
       "       [0.22473285, 0.37721561, 0.20287035, 0.93487195, 0.00431996,\n",
       "        0.54615071, 0.7822793 ]])"
      ]
     },
     "execution_count": 3,
     "metadata": {},
     "output_type": "execute_result"
    }
   ],
   "source": [
    "arr = np.random.uniform(0, 20 , size = (4,7)) #метод для генерации случайных чисел из равномерного распределения\n",
    "arr\n",
    "normalizedarr = (arr-np.min(arr))/(np.max(arr)-np.min(arr))\n",
    "normalizedarr"
   ]
  },
  {
   "cell_type": "markdown",
   "metadata": {},
   "source": [
    "2. Создать матрицу 8 на 10 из случайных целых (используя модуль `numpy.random`) чисел из диапозона от 0 до 10 и найти в ней строку (ее индекс и вывести саму строку), в которой сумма значений минимальна."
   ]
  },
  {
   "cell_type": "code",
   "execution_count": 4,
   "metadata": {},
   "outputs": [
    {
     "name": "stdout",
     "output_type": "stream",
     "text": [
      "[[2 4 0 6 8 7 2 1 4 2]\n",
      " [1 5 1 6 0 5 2 3 3 2]\n",
      " [3 6 8 0 5 4 4 0 2 9]\n",
      " [8 1 5 7 3 7 6 0 7 3]\n",
      " [3 3 9 2 4 0 0 3 7 8]\n",
      " [3 5 4 0 6 5 3 1 5 6]\n",
      " [2 5 8 8 1 2 8 2 4 7]\n",
      " [4 4 9 7 2 9 4 7 2 5]]\n"
     ]
    },
    {
     "data": {
      "text/plain": [
       "array([1, 5, 1, 6, 0, 5, 2, 3, 3, 2])"
      ]
     },
     "execution_count": 4,
     "metadata": {},
     "output_type": "execute_result"
    }
   ],
   "source": [
    "matrix = np.random.randint(0, 10, size = (8, 10))\n",
    "print(matrix)\n",
    "matrix[np.argmin(np.sum(matrix, axis = 1))]"
   ]
  },
  {
   "cell_type": "markdown",
   "metadata": {},
   "source": [
    "3. Найти евклидово расстояние между двумя одномерными векторами одинаковой размерности."
   ]
  },
  {
   "cell_type": "code",
   "execution_count": 5,
   "metadata": {},
   "outputs": [
    {
     "data": {
      "text/plain": [
       "93.28451104015072"
      ]
     },
     "execution_count": 5,
     "metadata": {},
     "output_type": "execute_result"
    }
   ],
   "source": [
    "a = np.array([1,2,3,4])\n",
    "b = np.array([33, 55, 66, 34])\n",
    "\n",
    "np.linalg.norm(a - b)"
   ]
  },
  {
   "cell_type": "markdown",
   "metadata": {},
   "source": [
    "4. Решить матричное уравнение `A*X*B=-C` - найти матрицу `X`. Где `A = [[-1, 2, 4], [-3, 1, 2], [-3, 0, 1]]`, `B=[[3, -1], [2, 1]]`, `C=[[7, 21], [11, 8], [8, 4]]`."
   ]
  },
  {
   "cell_type": "markdown",
   "metadata": {},
   "source": [
    "## Лабораторная работа №1"
   ]
  },
  {
   "cell_type": "markdown",
   "metadata": {},
   "source": [
    "Замечание: при решении данных задач не подразумевается использования циклов или генераторов Python, если в задании не сказано обратного. Решение должно опираться на использования функционала библиотеки `numpy`."
   ]
  },
  {
   "cell_type": "markdown",
   "metadata": {},
   "source": [
    "1. Файл `minutes_n_ingredients.csv` содержит информацию об идентификаторе рецепта, времени его выполнения в минутах и количестве необходимых ингредиентов. Считайте данные из этого файла в виде массива `numpy` типа `int32`, используя `np.loadtxt`. Выведите на экран первые 5 строк массива."
   ]
  },
  {
   "cell_type": "code",
   "execution_count": 30,
   "metadata": {},
   "outputs": [
    {
     "data": {
      "text/plain": [
       "array([[127244,     60,     16],\n",
       "       [ 23891,     25,      7],\n",
       "       [ 94746,     10,      6],\n",
       "       [ 67660,      5,      6],\n",
       "       [157911,     60,     14]])"
      ]
     },
     "execution_count": 30,
     "metadata": {},
     "output_type": "execute_result"
    }
   ],
   "source": [
    "file = np.loadtxt('minutes_n_ingredients.csv',  delimiter = ',', dtype = 'int32', skiprows = 1)\n",
    "file1 = file.copy()\n",
    "file[:5]"
   ]
  },
  {
   "cell_type": "markdown",
   "metadata": {},
   "source": [
    "2. Вычислите среднее значение, минимум, максимум и медиану по каждому из столбцов, кроме первого."
   ]
  },
  {
   "cell_type": "code",
   "execution_count": 31,
   "metadata": {},
   "outputs": [
    {
     "name": "stdout",
     "output_type": "stream",
     "text": [
      "Минимальное значение по столбцам [0 1]\n",
      "Максимум по столбцам [2147483647         39]\n",
      "Среднее значение по столбцам [2.16010017e+04 9.05528000e+00]\n",
      "Медиана по столбцам [40.  9.]\n"
     ]
    }
   ],
   "source": [
    "file2 = file1[:, 1:]\n",
    "minvalue = np.min(file2, axis = 0)\n",
    "maxvalue = np.max(file2, axis = 0)\n",
    "averagevalue = np.average(file2, axis = 0)\n",
    "medianvalue = np.median(file2, axis = 0)\n",
    "print('Минимальное значение по столбцам', minvalue)\n",
    "print('Максимум по столбцам', maxvalue)\n",
    "print('Среднее значение по столбцам', averagevalue)\n",
    "print('Медиана по столбцам', medianvalue)"
   ]
  },
  {
   "cell_type": "markdown",
   "metadata": {},
   "source": [
    "3. Ограничьте сверху значения продолжительности выполнения рецепта значением квантиля $q_{0.75}$. "
   ]
  },
  {
   "cell_type": "code",
   "execution_count": 32,
   "metadata": {},
   "outputs": [
    {
     "data": {
      "text/plain": [
       "array([[127244,     60,     16],\n",
       "       [ 23891,     25,      7],\n",
       "       [ 94746,     10,      6],\n",
       "       ...,\n",
       "       [ 43407,     35,      7],\n",
       "       [498432,     65,     15],\n",
       "       [370915,      5,      4]])"
      ]
     },
     "execution_count": 32,
     "metadata": {},
     "output_type": "execute_result"
    }
   ],
   "source": [
    "q = np.quantile(file1[:,1], 0.75)\n",
    "file3 = file1[file1[:,1]<=q]\n",
    "file3"
   ]
  },
  {
   "cell_type": "markdown",
   "metadata": {},
   "source": [
    "4. Посчитайте, для скольких рецептов указана продолжительность, равная нулю. Замените для таких строк значение в данном столбце на 1."
   ]
  },
  {
   "cell_type": "code",
   "execution_count": 99,
   "metadata": {},
   "outputs": [
    {
     "name": "stdout",
     "output_type": "stream",
     "text": [
      "Количество рецептов, для которых продолжительность равна 0: 479\n"
     ]
    },
    {
     "data": {
      "text/plain": [
       "(array([[ 18800,    270,     17],\n",
       "        [  9325,      0,     10],\n",
       "        [422167,     45,      8]]),\n",
       " array([[ 18800,    270,     17],\n",
       "        [  9325,      0,     10],\n",
       "        [422167,     45,      8]]))"
      ]
     },
     "execution_count": 99,
     "metadata": {},
     "output_type": "execute_result"
    }
   ],
   "source": [
    "count = len(file[file[:,1] == 0])\n",
    "print('Количество рецептов, для которых продолжительность равна 0:', count)\n",
    "file4 = file.copy()\n",
    "file4[file4[:, 1] == 0][:,1] = 1 \n",
    "file[410:413], file4[410:413] #пример"
   ]
  },
  {
   "cell_type": "markdown",
   "metadata": {},
   "source": [
    "5. Посчитайте, сколько уникальных рецептов находится в датасете."
   ]
  },
  {
   "cell_type": "code",
   "execution_count": 45,
   "metadata": {},
   "outputs": [
    {
     "name": "stdout",
     "output_type": "stream",
     "text": [
      "количесвто уникальных рецептов: 100000\n"
     ]
    }
   ],
   "source": [
    "print('количесвто уникальных рецептов:', len(np.unique(file[:, 0])))"
   ]
  },
  {
   "cell_type": "markdown",
   "metadata": {},
   "source": [
    "6. Сколько и каких различных значений кол-ва ингредиентов присутвует в рецептах из датасета?"
   ]
  },
  {
   "cell_type": "code",
   "execution_count": 52,
   "metadata": {},
   "outputs": [
    {
     "name": "stdout",
     "output_type": "stream",
     "text": [
      "количесвто различных значений кол-ва ингредиентов: 37\n"
     ]
    },
    {
     "data": {
      "text/plain": [
       "array([ 1,  2,  3,  4,  5,  6,  7,  8,  9, 10, 11, 12, 13, 14, 15, 16, 17,\n",
       "       18, 19, 20, 21, 22, 23, 24, 25, 26, 27, 28, 29, 30, 31, 32, 33, 34,\n",
       "       35, 37, 39])"
      ]
     },
     "execution_count": 52,
     "metadata": {},
     "output_type": "execute_result"
    }
   ],
   "source": [
    "print('количесвто различных значений кол-ва ингредиентов:', len(np.unique(file[:, 2])))\n",
    "np.unique(file[:, 2])"
   ]
  },
  {
   "cell_type": "markdown",
   "metadata": {},
   "source": [
    "7. Создайте версию массива, содержащую информацию только о рецептах, состоящих не более чем из 5 ингредиентов."
   ]
  },
  {
   "cell_type": "code",
   "execution_count": 54,
   "metadata": {},
   "outputs": [
    {
     "name": "stdout",
     "output_type": "stream",
     "text": [
      "[[127244     60     16]\n",
      " [ 23891     25      7]\n",
      " [ 94746     10      6]\n",
      " ...\n",
      " [498432     65     15]\n",
      " [370915      5      4]\n",
      " [ 81993    140     14]] \n",
      "\n",
      " количество рецептов, состоящих не более чем из 5 ингридиентов 100000\n"
     ]
    }
   ],
   "source": [
    "file7 = file.copy()\n",
    "file7[file7[:,2] <= 5]\n",
    "print(file7, '\\n\\n', 'количество рецептов, состоящих не более чем из 5 ингридиентов', file7.shape[0])"
   ]
  },
  {
   "cell_type": "markdown",
   "metadata": {},
   "source": [
    "8. Для каждого рецепта посчитайте, сколько в среднем ингредиентов приходится на одну минуту рецепта. Найдите максимальное значение этой величины для всего датасета"
   ]
  },
  {
   "cell_type": "code",
   "execution_count": 62,
   "metadata": {},
   "outputs": [
    {
     "name": "stdout",
     "output_type": "stream",
     "text": [
      "[[0.26666667]\n",
      " [0.28      ]\n",
      " [0.6       ]\n",
      " ...\n",
      " [0.23076923]\n",
      " [0.8       ]\n",
      " [0.1       ]]\n",
      "Максимальное количество ингридиентов на одну минуту рецепта: 23.0\n"
     ]
    }
   ],
   "source": [
    "file8 = file4[:,2] / file4[:, 1]\n",
    "print(file8[:, np.newaxis])\n",
    "print('Максимальное количество ингридиентов на одну минуту рецепта:', np.max(file8))"
   ]
  },
  {
   "cell_type": "markdown",
   "metadata": {},
   "source": [
    "9. Вычислите среднее количество ингредиентов для топ-100 рецептов с наибольшей продолжительностью"
   ]
  },
  {
   "cell_type": "code",
   "execution_count": 80,
   "metadata": {},
   "outputs": [
    {
     "name": "stdout",
     "output_type": "stream",
     "text": [
      "Cреднее количество ингредиентов для топ-100 рецептов с наибольшей продолжительностью 6.61\n"
     ]
    }
   ],
   "source": [
    "file9 = file1[file1[:,1].argsort()]\n",
    "file9 = file9[:-101:-1]\n",
    "file9\n",
    "print('Cреднее количество ингредиентов для топ-100 рецептов с наибольшей продолжительностью', np.average(file9[:, 2]))\n"
   ]
  },
  {
   "cell_type": "markdown",
   "metadata": {},
   "source": [
    "10. Выберите случайным образом и выведите информацию о 10 различных рецептах"
   ]
  },
  {
   "cell_type": "code",
   "execution_count": 87,
   "metadata": {},
   "outputs": [
    {
     "name": "stderr",
     "output_type": "stream",
     "text": [
      "C:\\Users\\Admin\\AppData\\Local\\Temp\\ipykernel_3776\\3954950190.py:3: FutureWarning: Using a non-tuple sequence for multidimensional indexing is deprecated; use `arr[tuple(seq)]` instead of `arr[seq]`. In the future this will be interpreted as an array index, `arr[np.array(seq)]`, which will result either in an error or a different result.\n",
      "  file4[[random.sample(range(len(file4)),10)]]\n"
     ]
    },
    {
     "data": {
      "text/plain": [
       "array([[495316,    140,     28],\n",
       "       [220969,     90,      7],\n",
       "       [171294,     90,      6],\n",
       "       [120504,     25,      9],\n",
       "       [202193,     70,      8],\n",
       "       [406985,    490,      4],\n",
       "       [ 17199,    110,      9],\n",
       "       [188259,    270,     21],\n",
       "       [412659,     40,      7],\n",
       "       [439600,     30,      8]])"
      ]
     },
     "execution_count": 87,
     "metadata": {},
     "output_type": "execute_result"
    }
   ],
   "source": [
    "import random\n",
    "#file10= random.sample(file4, 10)\n",
    "file4[[random.sample(range(len(file4)),10)]]"
   ]
  },
  {
   "cell_type": "code",
   "execution_count": 88,
   "metadata": {},
   "outputs": [
    {
     "data": {
      "text/plain": [
       "array([[109591,     20,      3],\n",
       "       [284138,     40,      6],\n",
       "       [203414,     15,      8],\n",
       "       [  2695,     45,      8],\n",
       "       [302750,     10,      3],\n",
       "       [229172,      5,      4],\n",
       "       [232134,     45,     10],\n",
       "       [ 86671,    128,      8],\n",
       "       [344950,    490,     11],\n",
       "       [160227,     45,     13]])"
      ]
     },
     "execution_count": 88,
     "metadata": {},
     "output_type": "execute_result"
    }
   ],
   "source": [
    "#второй способ \n",
    "import random\n",
    "\n",
    "file4[np.random.choice(len(file4), size = 10, replace = False)] \n"
   ]
  },
  {
   "cell_type": "markdown",
   "metadata": {},
   "source": [
    "11. Выведите процент рецептов, кол-во ингредиентов в которых меньше среднего."
   ]
  },
  {
   "cell_type": "code",
   "execution_count": 95,
   "metadata": {},
   "outputs": [
    {
     "name": "stdout",
     "output_type": "stream",
     "text": [
      "Процент рецептов, кол-во ингредиентов в которых меньше среднего: 58.99%\n"
     ]
    }
   ],
   "source": [
    "vsegorecipes = len(file)\n",
    "averageznach = np.average(file4[:,2])\n",
    "recipesmin = len(file4[file4[:, 2] < averageznach])\n",
    "print(f'Процент рецептов, кол-во ингредиентов в которых меньше среднего: {round((recipesmin/vsegorecipes) * 100, 2)}%')"
   ]
  },
  {
   "cell_type": "markdown",
   "metadata": {},
   "source": [
    "12. Назовем \"простым\" такой рецепт, длительность выполнения которого не больше 20 минут и кол-во ингредиентов в котором не больше 5. Создайте версию датасета с дополнительным столбцом, значениями которого являются 1, если рецепт простой, и 0 в противном случае."
   ]
  },
  {
   "cell_type": "code",
   "execution_count": 132,
   "metadata": {},
   "outputs": [
    {
     "name": "stdout",
     "output_type": "stream",
     "text": [
      "[[127244     60     16      0]\n",
      " [ 23891     25      7      0]\n",
      " [ 94746     10      6      0]\n",
      " ...\n",
      " [498432     65     15      0]\n",
      " [370915      5      4      1]\n",
      " [ 81993    140     14      0]]\n"
     ]
    },
    {
     "data": {
      "text/plain": [
       "array([[261088,     80,     16,      0],\n",
       "       [ 66257,    125,      8,      0],\n",
       "       [404093,     11,      8,      0],\n",
       "       [208241,     25,     10,      0],\n",
       "       [491998,     40,     13,      0],\n",
       "       [ 43341,     40,      5,      0],\n",
       "       [368762,     60,      7,      0],\n",
       "       [299620,     10,      7,      0],\n",
       "       [ 42704,     75,      8,      0],\n",
       "       [238846,     15,      8,      0],\n",
       "       [111500,     15,      4,      1],\n",
       "       [202633,     45,     10,      0],\n",
       "       [309419,     75,      8,      0],\n",
       "       [187322,      5,      7,      0],\n",
       "       [ 14253,     10,      9,      0],\n",
       "       [205356,     28,      9,      0],\n",
       "       [ 32736,     45,      9,      0],\n",
       "       [380421,     30,      7,      0],\n",
       "       [490918,     35,     17,      0],\n",
       "       [271217,     10,      4,      1],\n",
       "       [178242,     80,     17,      0],\n",
       "       [178540,     70,      6,      0],\n",
       "       [316184,     15,      5,      1],\n",
       "       [408293,     35,      4,      0],\n",
       "       [ 76604,     30,      8,      0],\n",
       "       [ 56776,     70,      3,      0],\n",
       "       [180800,      5,      3,      1],\n",
       "       [ 11555,   1450,      7,      0],\n",
       "       [ 36507,     21,      6,      0],\n",
       "       [464917,     30,     12,      0],\n",
       "       [313308,     50,     12,      0],\n",
       "       [220007,     30,      9,      0],\n",
       "       [ 38481,     30,     15,      0],\n",
       "       [419813,     35,      6,      0],\n",
       "       [163575,     10,      6,      0],\n",
       "       [222004,     40,     11,      0],\n",
       "       [ 68109,     50,     18,      0],\n",
       "       [403029,     60,      7,      0],\n",
       "       [ 65734,     30,      8,      0],\n",
       "       [482123,     45,     11,      0],\n",
       "       [523799,      5,      4,      1],\n",
       "       [  2712,     45,      7,      0],\n",
       "       [ 44257,    130,     18,      0],\n",
       "       [111565,     70,      7,      0],\n",
       "       [ 36242,    180,     11,      0],\n",
       "       [260329,     15,     11,      0],\n",
       "       [285629,     60,     15,      0],\n",
       "       [250473,     30,      8,      0],\n",
       "       [339547,     15,      9,      0],\n",
       "       [ 73644,     30,      7,      0],\n",
       "       [145249,     80,      5,      0],\n",
       "       [ 50737,     27,      3,      0],\n",
       "       [110141,     30,     16,      0],\n",
       "       [ 78262,     35,     12,      0],\n",
       "       [350442,     30,     12,      0],\n",
       "       [487738,     85,     18,      0],\n",
       "       [168133,     65,      9,      0],\n",
       "       [208139,     30,     10,      0],\n",
       "       [445183,      5,      2,      1],\n",
       "       [101461,    105,     10,      0],\n",
       "       [ 39137,    492,     11,      0],\n",
       "       [386762,    150,     17,      0],\n",
       "       [124111,     40,     12,      0],\n",
       "       [167482,     30,      9,      0],\n",
       "       [227509,    185,      9,      0],\n",
       "       [202670,     50,      9,      0],\n",
       "       [434181,     41,     10,      0],\n",
       "       [ 12520,     25,      9,      0],\n",
       "       [279412,    120,      7,      0],\n",
       "       [ 23187,     10,      7,      0],\n",
       "       [334985,     40,      6,      0],\n",
       "       [318992,     30,      9,      0],\n",
       "       [400445,     60,     13,      0],\n",
       "       [257289,     50,     10,      0],\n",
       "       [258742,     35,     15,      0],\n",
       "       [385241,     25,     14,      0],\n",
       "       [315114,     35,     17,      0],\n",
       "       [405726,     15,      5,      1],\n",
       "       [373728,     30,     12,      0],\n",
       "       [200562,     10,      3,      1],\n",
       "       [279648,    120,     16,      0],\n",
       "       [ 29598,     35,     10,      0],\n",
       "       [164257,     80,     10,      0],\n",
       "       [336006,     55,      7,      0],\n",
       "       [290595,     50,      6,      0],\n",
       "       [411512,     40,     11,      0],\n",
       "       [188935,     20,      7,      0],\n",
       "       [328136,      5,      5,      1],\n",
       "       [310099,     50,     11,      0],\n",
       "       [331400,     35,      6,      0],\n",
       "       [  8012,     75,     10,      0],\n",
       "       [134363,     25,      6,      0],\n",
       "       [389278,     10,      5,      1],\n",
       "       [280680,      5,      4,      1],\n",
       "       [125726,     25,     10,      0],\n",
       "       [ 64671,    840,      7,      0],\n",
       "       [ 11413,     85,     11,      0],\n",
       "       [126219,     40,      8,      0],\n",
       "       [ 26016,     30,     12,      0],\n",
       "       [383843,    210,     13,      0]])"
      ]
     },
     "execution_count": 132,
     "metadata": {},
     "output_type": "execute_result"
    }
   ],
   "source": [
    "file12 = file4.copy()\n",
    "file12 = np.insert(file12, 3, 0, axis = 1)\n",
    "print(file13)\n",
    "a = (file12[:,1] <= 20) & (file12[:,2] <= 5)\n",
    "file12[:,3][a] = 1\n",
    "file12[100:200]"
   ]
  },
  {
   "cell_type": "markdown",
   "metadata": {},
   "source": [
    "13. Выведите процент \"простых\" рецептов в датасете"
   ]
  },
  {
   "cell_type": "code",
   "execution_count": 134,
   "metadata": {},
   "outputs": [
    {
     "name": "stdout",
     "output_type": "stream",
     "text": [
      "Процент простых рецептов в датасете: 9.55%\n"
     ]
    }
   ],
   "source": [
    "vsegoprost = np.sum(file12[:, 3])\n",
    "vsego = len(file12)\n",
    "print(f'Процент простых рецептов в датасете: {round((vsegoprost/vsego) * 100, 2)}%')"
   ]
  },
  {
   "cell_type": "markdown",
   "metadata": {},
   "source": [
    "14. Разделим рецепты на группы по следующему правилу. Назовем рецепты короткими, если их продолжительность составляет менее 10 минут; стандартными, если их продолжительность составляет более 10, но менее 20 минут; и длинными, если их продолжительность составляет не менее 20 минут. Создайте трехмерный массив, где нулевая ось отвечает за номер группы (короткий, стандартный или длинный рецепт), первая ось - за сам рецепт и вторая ось - за характеристики рецепта. Выберите максимальное количество рецептов из каждой группы таким образом, чтобы было возможно сформировать трехмерный массив. Выведите форму полученного массива."
   ]
  },
  {
   "cell_type": "code",
   "execution_count": 137,
   "metadata": {},
   "outputs": [
    {
     "name": "stdout",
     "output_type": "stream",
     "text": [
      "7588\n"
     ]
    },
    {
     "data": {
      "text/plain": [
       "array([[[ 67660,      5,      6],\n",
       "        [366174,      7,      9],\n",
       "        [204134,      5,      3],\n",
       "        ...,\n",
       "        [420725,      5,      3],\n",
       "        [  4747,      0,      9],\n",
       "        [370915,      5,      4]],\n",
       "\n",
       "       [[ 94746,     10,      6],\n",
       "        [ 33941,     18,      9],\n",
       "        [446597,     15,      5],\n",
       "        ...,\n",
       "        [  9831,     15,      7],\n",
       "        [335859,     12,     14],\n",
       "        [256812,     10,      3]],\n",
       "\n",
       "       [[127244,     60,     16],\n",
       "        [ 23891,     25,      7],\n",
       "        [157911,     60,     14],\n",
       "        ...,\n",
       "        [168901,     25,      7],\n",
       "        [392339,     35,     13],\n",
       "        [206732,     45,     10]]])"
      ]
     },
     "execution_count": 137,
     "metadata": {},
     "output_type": "execute_result"
    }
   ],
   "source": [
    "file14 = file4.copy()\n",
    "short_recipe = file14[file14[:,1] < 10]\n",
    "midle_recipe = file14[(10 <= file4[:,1]) & (file4[:,1] < 20)]\n",
    "long_recipe = file14[file4[:, 1] >= 20]\n",
    "min_recipe = min(len(short_recipe), len(midle_recipe), len(long_recipe))\n",
    "print(min_recipe)\n",
    "itog_recipes = np.array([short_recipe[:min_recipe], midle_recipe[:min_recipe], long_recipe[:min_recipe]])\n",
    "itog_recipes\n"
   ]
  }
 ],
 "metadata": {
  "kernelspec": {
   "display_name": "Python 3 (ipykernel)",
   "language": "python",
   "name": "python3"
  },
  "language_info": {
   "codemirror_mode": {
    "name": "ipython",
    "version": 3
   },
   "file_extension": ".py",
   "mimetype": "text/x-python",
   "name": "python",
   "nbconvert_exporter": "python",
   "pygments_lexer": "ipython3",
   "version": "3.9.7"
  }
 },
 "nbformat": 4,
 "nbformat_minor": 4
}
